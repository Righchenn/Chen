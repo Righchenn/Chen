{
  "nbformat": 4,
  "nbformat_minor": 0,
  "metadata": {
    "colab": {
      "name": "MVA-MP3  Chen,Zhipeng.ipynb",
      "version": "0.3.2",
      "provenance": [],
      "collapsed_sections": [],
      "include_colab_link": true
    },
    "kernelspec": {
      "display_name": "Python 3",
      "language": "python",
      "name": "python3"
    }
  },
  "cells": [
    {
      "cell_type": "markdown",
      "metadata": {
        "id": "view-in-github",
        "colab_type": "text"
      },
      "source": [
        "<a href=\"https://colab.research.google.com/github/Righchenn/Chen/blob/master/MVA_MP3_Chen%2CZhipeng.ipynb\" target=\"_parent\"><img src=\"https://colab.research.google.com/assets/colab-badge.svg\" alt=\"Open In Colab\"/></a>"
      ]
    },
    {
      "metadata": {
        "colab_type": "text",
        "id": "pocYp1CG5NiE"
      },
      "cell_type": "markdown",
      "source": [
        "**You may need to install [OpenCV](https://pypi.python.org/pypi/opencv-python) and [scikit-video](http://www.scikit-video.org/stable/).**"
      ]
    },
    {
      "metadata": {
        "colab_type": "code",
        "id": "S_VRNofB5NiG",
        "colab": {}
      },
      "cell_type": "code",
      "source": [
        "# !pip install scikit-video\n",
        "import keras\n",
        "import numpy as np\n",
        "import io\n",
        "import base64\n",
        "from IPython.display import HTML\n",
        "import skvideo.io\n",
        "import cv2\n",
        "import json\n",
        "\n",
        "from keras.models import Sequential,model_from_json\n",
        "from keras.layers.core import Dense\n",
        "from keras.optimizers import sgd\n",
        "from keras.layers import Conv2D, MaxPooling2D, Activation, AveragePooling2D,Reshape,BatchNormalization\n",
        "from keras.layers import Conv2D, MaxPooling2D, Activation, AveragePooling2D,Reshape,BatchNormalization, Flatten, Dropout\n",
        "import collections\n",
        "import random\n",
        "from collections import deque"
      ],
      "execution_count": 0,
      "outputs": []
    },
    {
      "metadata": {
        "colab_type": "code",
        "id": "SZ5yqFDb6NVA",
        "colab": {}
      },
      "cell_type": "code",
      "source": [
        ""
      ],
      "execution_count": 0,
      "outputs": []
    },
    {
      "metadata": {
        "colab_type": "text",
        "id": "AnfEKrCO5NiN"
      },
      "cell_type": "markdown",
      "source": [
        "# MiniProject #3: Deep Reinforcement Learning"
      ]
    },
    {
      "metadata": {
        "colab_type": "text",
        "id": "6HxiJj935NiO"
      },
      "cell_type": "markdown",
      "source": [
        "__Notations__: $E_p$ is the expectation under probability $p$. Please justify each of your answer and widely comment your code."
      ]
    },
    {
      "metadata": {
        "colab_type": "text",
        "id": "Vk7X5qJs5NiP"
      },
      "cell_type": "markdown",
      "source": [
        "# Context"
      ]
    },
    {
      "metadata": {
        "colab_type": "text",
        "id": "2hWpkjX15NiR"
      },
      "cell_type": "markdown",
      "source": [
        "In a reinforcement learning algorithm, we modelize each step $t$ as an action $a_t$ obtained from a state $s_t$, i.e. $\\{(a_{t},s_{t})_{t\\leq T}\\}$ having the Markov property. We consider a discount factor $\\gamma \\in [0,1]$ that ensures convergence. The goal is to find among all the policies $\\pi$, one that maximizes the expected reward:\n",
        "\n",
        "\\begin{equation*}\n",
        "R(\\pi)=\\sum_{t\\leq T}E_{p^{\\pi}}[\\gamma^t r(s_{t},a_{t})] \\> ,\n",
        "\\end{equation*}\n",
        "\n",
        "where: \n",
        "\\begin{equation*}p^{\\pi}(a_{0},a_{1},s_{1},...,a_{T},s_{T})=p(a_{0})\\prod_{t=1}^{T}\\pi(a_{t}|s_{t})p(s_{t+1}|s_{t},a_{t}) \\> .\n",
        "\\end{equation*}\n",
        "\n",
        "We note the $Q$-function:\n",
        "\n",
        "\\begin{equation*}Q^\\pi(s,a)=E_{p^{\\pi}}[\\sum_{t\\leq T}\\gamma^{t}r(s_{t},a_{t})|s_{0}=s,a_{0}=a] \\> .\n",
        "\\end{equation*}\n",
        "\n",
        "Thus, the optimal Q function is:\n",
        "\\begin{equation*}\n",
        "Q^*(s,a)=\\max_{\\pi}Q^\\pi(s,a) \\> .\n",
        "\\end{equation*}\n",
        "\n",
        "In this project, we will apply the deep reinforcement learning techniques to a simple game: an agent will have to learn from scratch a policy that will permit it maximizing a reward."
      ]
    },
    {
      "metadata": {
        "colab_type": "text",
        "id": "iIyHO4Fd5NiS"
      },
      "cell_type": "markdown",
      "source": [
        "## The environment, the agent and the game"
      ]
    },
    {
      "metadata": {
        "colab_type": "text",
        "id": "NBZ2xEQc5NiU"
      },
      "cell_type": "markdown",
      "source": [
        "### The environment"
      ]
    },
    {
      "metadata": {
        "colab_type": "text",
        "id": "BbTuCvqG5NiV"
      },
      "cell_type": "markdown",
      "source": [
        "```Environment``` is an abstract class that represents the states, rewards, and actions to obtain the new state."
      ]
    },
    {
      "metadata": {
        "colab_type": "code",
        "id": "tkTIeO7i5NiW",
        "colab": {}
      },
      "cell_type": "code",
      "source": [
        "class Environment(object):\n",
        "    def __init__(self):\n",
        "        '''\n",
        "        self.epsilon = epsilon\n",
        "        self.n_action = n_action\n",
        "        self.epsilon_min = epsilon_min\n",
        "        self.epsilon_decay = epsilon_decay\n",
        "        '''\n",
        "        pass\n",
        "\n",
        "    def act(self, act):\n",
        "        '''\n",
        "        if train:\n",
        "            if np.random.rand() <= self.epsilon:\n",
        "                a = np.random.randint(0, self.n_action, size=1)[0]\n",
        "            else:\n",
        "                a = self.learned_act(s)\n",
        "        else: # in some cases, this can improve the performance.. remove it if poor performances\n",
        "            a = self.learned_act(s)\n",
        "\n",
        "        return a\n",
        "        '''\n",
        "        \"\"\"\n",
        "        One can act on the environment and obtain its reaction:\n",
        "        - the new state\n",
        "        - the reward of the new state\n",
        "        - should we continue the game?\n",
        "\n",
        "        :return: state, reward, game_over\n",
        "        \"\"\"\n",
        "        pass\n",
        "\n",
        "\n",
        "    def reset(self):\n",
        "        \"\"\"\n",
        "        Reinitialize the environment to a random state and returns\n",
        "        the original state\n",
        "\n",
        "        :return: state\n",
        "        \"\"\"\n",
        "        pass\n",
        "    \n",
        "    def draw(self):\n",
        "        \"\"\"\n",
        "        Visualize in the console or graphically the current state\n",
        "        \"\"\"\n",
        "        pass"
      ],
      "execution_count": 0,
      "outputs": []
    },
    {
      "metadata": {
        "colab_type": "text",
        "id": "Hy31iUse5Nia"
      },
      "cell_type": "markdown",
      "source": [
        "The method ```act``` allows to act on the environment at a given state $s_t$ (stored internally), via action $a_t$. The method will return the new state $s_{t+1}$, the reward $r(s_{t},a_{t})$ and determines if $t\\leq T$ (*game_over*).\n",
        "\n",
        "The method ```reset``` simply reinitializes the environment to a random state $s_0$.\n",
        "\n",
        "The method ```draw``` displays the current state $s_t$ (this is useful to check the behavior of the Agent).\n",
        "\n",
        "We modelize $s_t$ as a tensor, while $a_t$ is an integer."
      ]
    },
    {
      "metadata": {
        "colab_type": "text",
        "id": "G98Gl2gM5Nib"
      },
      "cell_type": "markdown",
      "source": [
        "### The Agent"
      ]
    },
    {
      "metadata": {
        "colab_type": "text",
        "id": "6kxbiKs35Nic"
      },
      "cell_type": "markdown",
      "source": [
        "The goal of the ```Agent``` is to interact with the ```Environment``` by proposing actions $a_t$ obtained from a given state $s_t$ to attempt to maximize its __reward__ $r(s_t,a_t)$. We propose the following abstract class:"
      ]
    },
    {
      "metadata": {
        "colab_type": "code",
        "id": "JlNK19rp5Nid",
        "colab": {}
      },
      "cell_type": "code",
      "source": [
        "class Agent(object):\n",
        "    def __init__(self, epsilon=0.1, n_action=4):\n",
        "        self.epsilon = epsilon\n",
        "        self.n_action = n_action\n",
        "    \n",
        "    def set_epsilon(self,e):\n",
        "        self.epsilon = e\n",
        "        \n",
        "    def get_epsilon(self):\n",
        "        return self.epsilon\n",
        "\n",
        "    def act(self,s,train=True):\n",
        "        \"\"\" This function should return the next action to do:\n",
        "        an integer between 0 and 4 (not included) with a random exploration of epsilon\"\"\"\n",
        "        if train:\n",
        "            if np.random.rand() <= self.epsilon:\n",
        "                a = np.random.randint(0, self.n_action, size=1)[0]\n",
        "            else:\n",
        "                a = self.learned_act(s)\n",
        "        else: # in some cases, this can improve the performance.. remove it if poor performances\n",
        "            a = self.learned_act(s)\n",
        "\n",
        "        return a\n",
        "\n",
        "    def learned_act(self,s):\n",
        "        \"\"\" Act via the policy of the agent, from a given state s\n",
        "        it proposes an action a\"\"\"\n",
        "        pass\n",
        "\n",
        "    def reinforce(self, s, n_s, a, r, game_over_):\n",
        "        \"\"\" This function is the core of the learning algorithm. \n",
        "        It takes as an input the current state s_, the next state n_s_\n",
        "        the action a_ used to move from s_ to n_s_ and the reward r_.\n",
        "        \n",
        "        Its goal is to learn a policy.\n",
        "        \"\"\"\n",
        "        pass\n",
        "\n",
        "    def save(self):\n",
        "        \"\"\" This function returns basic stats if applicable: the\n",
        "        loss and/or the model\"\"\"\n",
        "        pass\n",
        "\n",
        "    def load(self):\n",
        "        \"\"\" This function allows to restore a model\"\"\"\n",
        "        pass"
      ],
      "execution_count": 0,
      "outputs": []
    },
    {
      "metadata": {
        "colab_type": "text",
        "id": "F5ADJz-T5Nig"
      },
      "cell_type": "markdown",
      "source": [
        "***\n",
        "__Question 1__:\n",
        "Explain the function act. Why is ```epsilon``` essential?"
      ]
    },
    {
      "metadata": {
        "colab_type": "text",
        "id": "Oz-SzI9L5Nik"
      },
      "cell_type": "markdown",
      "source": [
        "The function act() gives the action that the agent will do next. \n",
        "\n",
        "Without epsilon, the agent will always choose the best action leant from before, even there is a better option at the moment. With epsilon, the agent has a probability of epsilon that it acts randomly. This allows it to develop better actions.  Epsilon is used to balance exploration and exploitation.  \n",
        "\n",
        "\n"
      ]
    },
    {
      "metadata": {
        "colab_type": "text",
        "id": "kQh2JQUq5Nin"
      },
      "cell_type": "markdown",
      "source": [
        "***\n",
        "### The Game"
      ]
    },
    {
      "metadata": {
        "colab_type": "text",
        "id": "fJvSoKdY5Nio"
      },
      "cell_type": "markdown",
      "source": [
        "The ```Agent``` and the ```Environment``` work in an interlaced way as in the following (take some time to understand this code as it is the core of the project)\n",
        "\n",
        "```python\n",
        "\n",
        "```"
      ]
    },
    {
      "metadata": {
        "colab_type": "code",
        "id": "YptAKoncgqVf",
        "outputId": "c52509dc-cd97-423c-fb1c-1b984b65be40",
        "colab": {
          "base_uri": "https://localhost:8080/",
          "height": 55
        }
      },
      "cell_type": "code",
      "source": [
        "'''\n",
        "epoch = 300\n",
        "env = Environment()\n",
        "agent = Agent()\n",
        "\n",
        "\n",
        "# Number of won games\n",
        "score = 0\n",
        "loss = 0\n",
        "\n",
        "\n",
        "for e in range(epoch):\n",
        "    # At each epoch, we restart to a fresh game and get the initial state\n",
        "    state = env.reset()\n",
        "    # This assumes that the games will end\n",
        "    game_over = False\n",
        "\n",
        "    win = 0\n",
        "    lose = 0\n",
        "\n",
        "    while not game_over:\n",
        "        # The agent performs an action\n",
        "        action = agent.act(state)\n",
        "\n",
        "        # Apply an action to the environment, get the next state, the reward\n",
        "        # and if the games end\n",
        "        prev_state = state\n",
        "        try: \n",
        "          state, reward, game_over = env.act(action)\n",
        "        except: \n",
        "          print('error')\n",
        "        # Update the counters\n",
        "        if reward > 0:\n",
        "            win = win + reward\n",
        "        if reward < 0:\n",
        "            lose = lose -reward\n",
        "\n",
        "        # Apply the reinforcement strategy\n",
        "        loss = agent.reinforce(prev_state, state,  action, reward, game_over)\n",
        "\n",
        "    # Save as a mp4\n",
        "    if e % 10 == 0:\n",
        "        env.draw(e)\n",
        "\n",
        "    # Update stats\n",
        "    score += win-lose\n",
        "\n",
        "    print(\"Epoch {:03d}/{:03d} | Loss {:.4f} | Win/lose count {}/{} ({})\"\n",
        "          .format(e, epoch, loss, win, lose, win-lose))\n",
        "    agent.save()\n",
        "    '''"
      ],
      "execution_count": 13,
      "outputs": [
        {
          "output_type": "execute_result",
          "data": {
            "text/plain": [
              "'\\nepoch = 300\\nenv = Environment()\\nagent = Agent()\\n\\n\\n# Number of won games\\nscore = 0\\nloss = 0\\n\\n\\nfor e in range(epoch):\\n    # At each epoch, we restart to a fresh game and get the initial state\\n    state = env.reset()\\n    # This assumes that the games will end\\n    game_over = False\\n\\n    win = 0\\n    lose = 0\\n\\n    while not game_over:\\n        # The agent performs an action\\n        action = agent.act(state)\\n\\n        # Apply an action to the environment, get the next state, the reward\\n        # and if the games end\\n        prev_state = state\\n        try: \\n          state, reward, game_over = env.act(action)\\n        except: \\n          print(\\'error\\')\\n        # Update the counters\\n        if reward > 0:\\n            win = win + reward\\n        if reward < 0:\\n            lose = lose -reward\\n\\n        # Apply the reinforcement strategy\\n        loss = agent.reinforce(prev_state, state,  action, reward, game_over)\\n\\n    # Save as a mp4\\n    if e % 10 == 0:\\n        env.draw(e)\\n\\n    # Update stats\\n    score += win-lose\\n\\n    print(\"Epoch {:03d}/{:03d} | Loss {:.4f} | Win/lose count {}/{} ({})\"\\n          .format(e, epoch, loss, win, lose, win-lose))\\n    agent.save()\\n    '"
            ]
          },
          "metadata": {
            "tags": []
          },
          "execution_count": 13
        }
      ]
    },
    {
      "metadata": {
        "colab_type": "code",
        "id": "tlvGg9R7mlSY",
        "colab": {}
      },
      "cell_type": "code",
      "source": [
        ""
      ],
      "execution_count": 0,
      "outputs": []
    },
    {
      "metadata": {
        "colab_type": "code",
        "id": "5wymNbiynHzd",
        "colab": {}
      },
      "cell_type": "code",
      "source": [
        "# print(env.act(action))"
      ],
      "execution_count": 0,
      "outputs": []
    },
    {
      "metadata": {
        "colab_type": "text",
        "id": "lgs3Ubpp5Nir"
      },
      "cell_type": "markdown",
      "source": [
        "# The game, *eat cheese*"
      ]
    },
    {
      "metadata": {
        "colab_type": "text",
        "id": "xRrXMmyl5Nit"
      },
      "cell_type": "markdown",
      "source": [
        "A rat runs on an island and tries to eat as much as possible. The island is subdivided into $N\\times N$ cells, in which there are cheese (+0.5) and poisonous cells (-1). The rat has a visibility of 2 cells (thus it can see $5^2$ cells). The rat is given a time $T$ to accumulate as much food as possible. It can perform 4 actions: going up, down, left, right. \n",
        "\n",
        "The goal is to code an agent to solve this task that will learn by trial and error. We propose the following environment:"
      ]
    },
    {
      "metadata": {
        "colab_type": "code",
        "id": "eUuQyJAW5Niu",
        "colab": {}
      },
      "cell_type": "code",
      "source": [
        "class Environment(object):\n",
        "    def __init__(self, grid_size=10, max_time=500, temperature=0.1):\n",
        "        grid_size = grid_size+4\n",
        "        self.grid_size = grid_size\n",
        "        self.max_time = max_time\n",
        "        self.temperature = temperature\n",
        "\n",
        "        #board on which one plays\n",
        "        self.board = np.zeros((grid_size,grid_size))\n",
        "        self.position = np.zeros((grid_size,grid_size))\n",
        "\n",
        "        # coordinate of the cat\n",
        "        self.x = 0\n",
        "        self.y = 1\n",
        "\n",
        "        # self time\n",
        "        self.t = 0\n",
        "\n",
        "        self.scale=16\n",
        "\n",
        "        self.to_draw = np.zeros((max_time+2, grid_size*self.scale, grid_size*self.scale, 3))\n",
        "\n",
        "\n",
        "    def draw(self,e):\n",
        "        skvideo.io.vwrite(str(e) + '.mp4', self.to_draw)\n",
        "\n",
        "    def get_frame(self,t):\n",
        "        b = np.zeros((self.grid_size,self.grid_size,3))+128\n",
        "        b[self.board>0,0] = 256\n",
        "        b[self.board < 0, 2] = 256\n",
        "        b[self.x,self.y,:]=256\n",
        "        b[-2:,:,:]=0\n",
        "        b[:,-2:,:]=0\n",
        "        b[:2,:,:]=0\n",
        "        b[:,:2,:]=0\n",
        "        \n",
        "        b =  cv2.resize(b, None, fx=self.scale, fy=self.scale, interpolation=cv2.INTER_NEAREST)\n",
        "\n",
        "        self.to_draw[t,:,:,:]=b\n",
        "\n",
        "\n",
        "    def act(self, action):\n",
        "        \"\"\"This function returns the new state, reward and decides if the\n",
        "        game ends.\"\"\"\n",
        "\n",
        "        self.get_frame(int(self.t))\n",
        "\n",
        "        self.position = np.zeros((self.grid_size, self.grid_size))\n",
        "\n",
        "        self.position[0:2,:]= -1\n",
        "        self.position[:,0:2] = -1\n",
        "        self.position[-2:, :] = -1\n",
        "        self.position[-2:, :] = -1\n",
        "\n",
        "        self.position[self.x, self.y] = 1\n",
        "        if action == 0:\n",
        "            if self.x == self.grid_size-3:\n",
        "                self.x = self.x-1\n",
        "            else:\n",
        "                self.x = self.x + 1\n",
        "        elif action == 1:\n",
        "            if self.x == 2:\n",
        "                self.x = self.x+1\n",
        "            else:\n",
        "                self.x = self.x-1\n",
        "        elif action == 2:\n",
        "            if self.y == self.grid_size - 3:\n",
        "                self.y = self.y - 1\n",
        "            else:\n",
        "                self.y = self.y + 1\n",
        "        elif action == 3:\n",
        "            if self.y == 2:\n",
        "                self.y = self.y + 1\n",
        "            else:\n",
        "                self.y = self.y - 1\n",
        "        else:\n",
        "            RuntimeError('Error: action not recognized')\n",
        "\n",
        "        self.t = self.t + 1\n",
        "        reward = self.board[self.x, self.y]\n",
        "        self.board[self.x, self.y] = 0\n",
        "        game_over = self.t > self.max_time\n",
        "        state = np.concatenate((self.board.reshape(self.grid_size, self.grid_size,1),\n",
        "                        self.position.reshape(self.grid_size, self.grid_size,1)),axis=2)\n",
        "        state = state[self.x-2:self.x+3,self.y-2:self.y+3,:]\n",
        "\n",
        "        return state, reward, game_over\n",
        "\n",
        "    def reset(self):\n",
        "        \"\"\"This function resets the game and returns the initial state\"\"\"\n",
        "\n",
        "        self.x = np.random.randint(3, self.grid_size-3, size=1)[0]\n",
        "        self.y = np.random.randint(3, self.grid_size-3, size=1)[0]\n",
        "\n",
        "\n",
        "        bonus = 0.5*np.random.binomial(1,self.temperature,size=self.grid_size**2)\n",
        "        bonus = bonus.reshape(self.grid_size,self.grid_size)\n",
        "\n",
        "        malus = -1.0*np.random.binomial(1,self.temperature,size=self.grid_size**2)\n",
        "        malus = malus.reshape(self.grid_size, self.grid_size)\n",
        "\n",
        "        self.to_draw = np.zeros((self.max_time+2, self.grid_size*self.scale, self.grid_size*self.scale, 3))\n",
        "\n",
        "\n",
        "        malus[bonus>0]=0\n",
        "\n",
        "        self.board = bonus + malus\n",
        "\n",
        "        self.position = np.zeros((self.grid_size, self.grid_size))\n",
        "        self.position[0:2,:]= -1\n",
        "        self.position[:,0:2] = -1\n",
        "        self.position[-2:, :] = -1\n",
        "        self.position[-2:, :] = -1\n",
        "        self.board[self.x,self.y] = 0\n",
        "        self.t = 0\n",
        "\n",
        "        state = np.concatenate((\n",
        "                               self.board.reshape(self.grid_size, self.grid_size,1),\n",
        "                        self.position.reshape(self.grid_size, self.grid_size,1)),axis=2)\n",
        "\n",
        "        state = state[self.x - 2:self.x + 3, self.y - 2:self.y + 3, :]\n",
        "        return state"
      ],
      "execution_count": 0,
      "outputs": []
    },
    {
      "metadata": {
        "colab_type": "text",
        "id": "jnFPZeaR5Nix"
      },
      "cell_type": "markdown",
      "source": [
        "The following elements are important because they correspond to the hyper parameters for this project:"
      ]
    },
    {
      "metadata": {
        "colab_type": "code",
        "id": "7gfl3W-w5Niy",
        "colab": {}
      },
      "cell_type": "code",
      "source": [
        "# parameters\n",
        "size = 13\n",
        "T=200\n",
        "temperature=0.3\n",
        "epochs_train=20 # set small when debugging\n",
        "epochs_test=20 # set small when debugging\n",
        "\n",
        "# display videos\n",
        "def display_videos(name):\n",
        "    video = io.open(name, 'r+b').read()\n",
        "    encoded = base64.b64encode(video)\n",
        "    return '''<video alt=\"test\" controls>\n",
        "                <source src=\"data:video/mp4;base64,{0}\" type=\"video/mp4\" />\n",
        "             </video>'''.format(encoded.decode('ascii'))"
      ],
      "execution_count": 0,
      "outputs": []
    },
    {
      "metadata": {
        "colab_type": "text",
        "id": "Ie5HR3_f5Ni2"
      },
      "cell_type": "markdown",
      "source": [
        "__Question 2__ Explain the use of the arrays ```position``` and ```board```."
      ]
    },
    {
      "metadata": {
        "colab_type": "text",
        "id": "GRWZM5ZM5Ni3"
      },
      "cell_type": "markdown",
      "source": [
        "Array 'position' indicates the position of the mouse. All elements are 0 except the the element that indicates the position of the mouse is 1. \n",
        "\n",
        "Array 'board' indicates the board of the game. The values represents the reward of each position, either positive, zero or negative. "
      ]
    },
    {
      "metadata": {
        "colab_type": "text",
        "id": "X7OhryZ35Ni4"
      },
      "cell_type": "markdown",
      "source": [
        "## Random Agent"
      ]
    },
    {
      "metadata": {
        "colab_type": "text",
        "id": "ZBlGoRJ15Ni5"
      },
      "cell_type": "markdown",
      "source": [
        "***\n",
        "__Question 3__ Implement a random Agent (only ```learned_act``` needs to be implemented):"
      ]
    },
    {
      "metadata": {
        "colab_type": "code",
        "id": "FgiHdnh15Ni7",
        "colab": {}
      },
      "cell_type": "code",
      "source": [
        "class RandomAgent(Agent):\n",
        "    def __init__(self):\n",
        "        super(RandomAgent, self).__init__()\n",
        "        pass\n",
        "\n",
        "    def learned_act(self, s):\n",
        "        return np.random.randint(0,3)"
      ],
      "execution_count": 0,
      "outputs": []
    },
    {
      "metadata": {
        "colab_type": "text",
        "id": "0yzVIxqO5Ni-"
      },
      "cell_type": "markdown",
      "source": [
        "***\n",
        "***\n",
        "__Question 4__ Visualize the game moves. You need to fill in the following function for the evaluation:"
      ]
    },
    {
      "metadata": {
        "colab_type": "code",
        "id": "XERLQRsp5Ni_",
        "colab": {}
      },
      "cell_type": "code",
      "source": [
        "def test(agent,env,epochs,prefix=''):\n",
        "    \n",
        "    # Number of won games\n",
        "    score = 0\n",
        "    loss = 0\n",
        "\n",
        "    for e in range(epochs):\n",
        "        \n",
        "        ##### FILL IN HERE        \n",
        "        state = env.reset()\n",
        "        game_over = False\n",
        "\n",
        "        win = 0\n",
        "        lose = 0\n",
        "\n",
        "        while not game_over:\n",
        "            # The agent performs an action\n",
        "            action = agent.act(state)\n",
        "\n",
        "            prev_state = state\n",
        "            state, reward, game_over = env.act(action)\n",
        "\n",
        "            # Update the counters\n",
        "            if reward > 0:\n",
        "                win = win + reward\n",
        "            if reward < 0:\n",
        "                lose = lose -reward\n",
        "\n",
        "        # Save as a mp4\n",
        "        env.draw(prefix+str(e))\n",
        "\n",
        "        # Update stats\n",
        "        score = score + win-lose\n",
        "        \n",
        "        print(\"Win/lose count {:.2f}/{:.2f}. Average score ({:.2f})\"\n",
        "              .format(win, lose, score/(1+e)))\n",
        "    print('Final score: '+str(round(score/epochs,2)))"
      ],
      "execution_count": 0,
      "outputs": []
    },
    {
      "metadata": {
        "colab_type": "code",
        "id": "mD5zYPdL5NjD",
        "outputId": "a0c05e26-1bc5-4f8e-8133-24dc4e402bb8",
        "colab": {
          "base_uri": "https://localhost:8080/",
          "height": 548
        }
      },
      "cell_type": "code",
      "source": [
        "# Initialize the game\n",
        "env = Environment(grid_size=size, max_time=T,temperature=temperature)\n",
        "\n",
        "# Initialize the agent!\n",
        "agent = RandomAgent()\n",
        "\n",
        "test(agent,env,epochs_test,prefix='random')\n",
        "HTML(display_videos('random0.mp4'))"
      ],
      "execution_count": 19,
      "outputs": [
        {
          "output_type": "stream",
          "text": [
            "Win/lose count 3.50/11.00. Average score (-7.50)\n",
            "Win/lose count 3.00/8.00. Average score (-6.25)\n",
            "Win/lose count 2.00/5.00. Average score (-5.17)\n",
            "Win/lose count 5.00/7.00. Average score (-4.38)\n",
            "Win/lose count 8.00/12.00. Average score (-4.30)\n",
            "Win/lose count 4.50/6.00. Average score (-3.83)\n",
            "Win/lose count 3.50/8.00. Average score (-3.93)\n",
            "Win/lose count 6.50/9.00. Average score (-3.75)\n",
            "Win/lose count 4.50/5.00. Average score (-3.39)\n",
            "Win/lose count 9.00/4.00. Average score (-2.55)\n",
            "Win/lose count 6.50/8.00. Average score (-2.45)\n",
            "Win/lose count 6.50/9.00. Average score (-2.46)\n",
            "Win/lose count 5.00/8.00. Average score (-2.50)\n",
            "Win/lose count 6.00/11.00. Average score (-2.68)\n",
            "Win/lose count 6.00/2.00. Average score (-2.23)\n",
            "Win/lose count 6.50/16.00. Average score (-2.69)\n",
            "Win/lose count 6.50/9.00. Average score (-2.68)\n",
            "Win/lose count 8.50/8.00. Average score (-2.50)\n",
            "Win/lose count 2.00/6.00. Average score (-2.58)\n",
            "Win/lose count 3.50/9.00. Average score (-2.73)\n",
            "Final score: -2.72\n"
          ],
          "name": "stdout"
        },
        {
          "output_type": "execute_result",
          "data": {
            "text/html": [
              "<video alt=\"test\" controls>\n",
              "                <source src=\"data:video/mp4;base64,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\" type=\"video/mp4\" />\n",
              "             </video>"
            ],
            "text/plain": [
              "<IPython.core.display.HTML object>"
            ]
          },
          "metadata": {
            "tags": []
          },
          "execution_count": 19
        }
      ]
    },
    {
      "metadata": {
        "colab_type": "text",
        "id": "bYtdyiC65NjJ"
      },
      "cell_type": "markdown",
      "source": [
        "***\n",
        "## DQN"
      ]
    },
    {
      "metadata": {
        "colab_type": "text",
        "id": "kBedMR5r5NjK"
      },
      "cell_type": "markdown",
      "source": [
        "Let us assume here that $T=\\infty$.\n",
        "\n",
        "***\n",
        "__Question 5__ Let $\\pi$ be a policy, show that:\n",
        "\n",
        "\\begin{equation*}\n",
        "Q^{\\pi}(s,a)=E_{(s',a')\\sim p(.|s,a)}[r(s,a)+\\gamma Q^{\\pi}(s',a')]\n",
        "\\end{equation*}\n",
        "\n",
        "Then, show that for the optimal policy $\\pi^*$ (we assume its existence), the following holds: \n",
        "\n",
        "\\begin{equation*}\n",
        "Q^{*}(s,a)=E_{s'\\sim \\pi^*(.|s,a)}[r(s,a)+\\gamma\\max_{a'}Q^{*}(s',a')].\n",
        "\\end{equation*}\n",
        "Finally, deduce that a plausible objective is:\n",
        "\n",
        "\\begin{equation*}\n",
        "\\mathcal{L}(\\theta)=E_{s' \\sim \\pi^*(.|s,a)}\\Vert r+\\gamma\\max\\max_{a'}Q(s',a',\\theta)-Q(s,a,\\theta)\\Vert^{2}.\n",
        "\\end{equation*}\n",
        "\n",
        "\n"
      ]
    },
    {
      "metadata": {
        "colab_type": "text",
        "id": "p71NwX805NjL"
      },
      "cell_type": "markdown",
      "source": [
        "Please find the answer of this question in an uploaded file named 'DL3Q5.jpg'. "
      ]
    },
    {
      "metadata": {
        "colab_type": "text",
        "id": "FY3-SmzU5NjM"
      },
      "cell_type": "markdown",
      "source": [
        "***\n",
        "The DQN-learning algorithm relies on these derivations to train the parameters $\\theta$ of a Deep Neural Network:\n",
        "\n",
        "1. At the state $s_t$, select the action $a_t$ with best reward using $Q_t$ and store the results;\n",
        "\n",
        "2. Obtain the new state $s_{t+1}$ from the environment $p$;\n",
        "\n",
        "3. Store $(s_t,a_t,s_{t+1})$;\n",
        "\n",
        "4. Obtain $Q_{t+1}$ by minimizing  $\\mathcal{L}$ from a recovered batch from the previously stored results.\n",
        "\n",
        "***\n",
        "__Question 6__ Implement the class ```Memory``` that stores moves (in a replay buffer) via ```remember``` and provides a ```random_access``` to these. Specify a maximum memory size to avoid side effects. You can for example use a ```list()``` and set by default ```max_memory=100```."
      ]
    },
    {
      "metadata": {
        "colab_type": "code",
        "id": "QY_fYdHE5NjN",
        "colab": {}
      },
      "cell_type": "code",
      "source": [
        "class Memory(object):\n",
        "    def __init__(self, max_memory=100):\n",
        "        self.max_memory = max_memory\n",
        "        self.memory = list()\n",
        "\n",
        "    def remember(self, m):\n",
        "        self.memory.append(m)\n",
        "        self.memory = collections.deque(self.memory, maxlen=self.max_memory)\n",
        "        \n",
        "\n",
        "    def random_access(self):\n",
        "        return random.choice(self.memory)\n",
        "        "
      ],
      "execution_count": 0,
      "outputs": []
    },
    {
      "metadata": {
        "colab_type": "text",
        "id": "o6bK7wue5NjT"
      },
      "cell_type": "markdown",
      "source": [
        "***\n",
        "The pipeline we will use for training is given below:"
      ]
    },
    {
      "metadata": {
        "colab_type": "code",
        "id": "LF96aHr35NjX",
        "colab": {}
      },
      "cell_type": "code",
      "source": [
        "def train(agent,env,epoch,prefix=''):\n",
        "    # Number of won games\n",
        "    score = 0\n",
        "    loss = 0\n",
        "\n",
        "    for e in range(epoch):\n",
        "        # At each epoch, we restart to a fresh game and get the initial state\n",
        "        state = env.reset()\n",
        "        # This assumes that the games will terminate\n",
        "        game_over = False\n",
        "\n",
        "        win = 0\n",
        "        lose = 0\n",
        "\n",
        "        while not game_over:\n",
        "            # The agent performs an action\n",
        "            action = agent.act(state)\n",
        "\n",
        "            # Apply an action to the environment, get the next state, the reward\n",
        "            # and if the games end\n",
        "            prev_state = state\n",
        "            state, reward, game_over = env.act(action)\n",
        "\n",
        "            # Update the counters\n",
        "            if reward > 0:\n",
        "                win = win + reward\n",
        "            if reward < 0:\n",
        "                lose = lose -reward\n",
        "\n",
        "            # Apply the reinforcement strategy\n",
        "            loss = agent.reinforce(prev_state, state,  action, reward, game_over)\n",
        "\n",
        "        # Save as a mp4\n",
        "        if e % 10 == 0:\n",
        "            env.draw(prefix+str(e))\n",
        "\n",
        "        # Update stats\n",
        "        score += win-lose\n",
        "\n",
        "        print(\"Epoch {:03d}/{:03d} | Loss {:.4f} | Win/lose count {}/{} ({})\"\n",
        "              .format(e, epoch, loss, win, lose, win-lose))\n",
        "        agent.save(name_weights=prefix+'model.h5',name_model=prefix+'model.json')"
      ],
      "execution_count": 0,
      "outputs": []
    },
    {
      "metadata": {
        "colab_type": "text",
        "id": "AzQ4UJhp5Njd"
      },
      "cell_type": "markdown",
      "source": [
        "***\n",
        "__Question 7__ Implement the DQN training algorithm using a cascade of fully connected layers. You can use different learning rate, batch size or memory size parameters. In particular, the loss might oscillate while the player will start to win the games. You have to find a good criterium."
      ]
    },
    {
      "metadata": {
        "colab_type": "code",
        "id": "ooVVhcxe5Nje",
        "colab": {}
      },
      "cell_type": "code",
      "source": [
        "class DQN(Agent):\n",
        "    def __init__(self, grid_size,  epsilon = 0.1, memory_size=100, batch_size = 16,n_state=2):\n",
        "        super(DQN, self).__init__(epsilon = epsilon)\n",
        "\n",
        "        # Discount for Q learning\n",
        "        self.discount = 0.99\n",
        "        \n",
        "        self.grid_size = grid_size\n",
        "        \n",
        "        # number of state\n",
        "        self.n_state = n_state\n",
        "\n",
        "        # Memory\n",
        "        self.memory = Memory(memory_size)\n",
        "        \n",
        "        # Batch size when learning\n",
        "        self.batch_size = batch_size\n",
        "\n",
        "    def learned_act(self, s):\n",
        "        act_pred = self.model.predict(np.reshape(s, (1, 5, 5, self.n_state)))\n",
        "        \n",
        "        return np.argmax(act_pred[0])\n",
        "\n",
        "    def reinforce(self, s_, n_s_, a_, r_, game_over_):\n",
        "        # Two steps: first memorize the states, second learn from the pool\n",
        "\n",
        "        self.memory.remember([s_, n_s_, a_, r_, game_over_])\n",
        "        \n",
        "        input_states = np.zeros((self.batch_size, 5,5,self.n_state))\n",
        "        target_q = np.zeros((self.batch_size, 4))\n",
        "        \n",
        "        for i in range(self.batch_size):\n",
        "            ######## FILL IN\n",
        "            batch=self.memory.random_access()\n",
        "            input_states[i]=batch[0] # state observed in t; batch[1] is the state in t+1\n",
        "            game_over_=batch[4]\n",
        "            if game_over_:\n",
        "                ######## FILL IN\n",
        "                target_q[i, batch[2]] = batch[3]\n",
        "            else:\n",
        "                ######## FILL IN\n",
        "                x = np.reshape(batch[1], (1, 5, 5, self.n_state)) # get observered state in t+1\n",
        "                target_q[i, batch[2]] = batch[3] + self.discount * np.amax(self.model.predict(x))\n",
        "        ######## FILL IN\n",
        "        # HINT: Clip the target to avoid exploiding gradients.. -- clipping is a bit tighter\n",
        "        target_q = np.clip(target_q, -3, 3)\n",
        "\n",
        "        l = self.model.train_on_batch(input_states, target_q)\n",
        "\n",
        "\n",
        "        return l\n",
        "\n",
        "    def save(self,name_weights='model.h5',name_model='model.json'):\n",
        "        self.model.save_weights(name_weights, overwrite=True)\n",
        "        with open(name_model, \"w\") as outfile:\n",
        "            json.dump(self.model.to_json(), outfile)\n",
        "            \n",
        "    def load(self,name_weights='model.h5',name_model='model.json'):\n",
        "        with open(name_model, \"r\") as jfile:\n",
        "            model = model_from_json(json.load(jfile))\n",
        "        model.load_weights(name_weights)\n",
        "        model.compile(\"sgd\", \"mse\")\n",
        "        self.model = model\n",
        "\n",
        "            \n",
        "class DQN_FC(DQN):\n",
        "    def __init__(self, *args, lr=0.1,**kwargs):\n",
        "        super(DQN_FC, self).__init__( *args,**kwargs)\n",
        "        \n",
        "        # NN Model\n",
        "        \n",
        "        ####### FILL IN\n",
        "        model = Sequential()\n",
        "        model.add(Reshape((5*5*self.n_state,), input_shape=(5,5,self.n_state)))\n",
        "        model.add(Dense(24, input_dim=50, activation='relu'))\n",
        "        model.add(Dense(24, activation='relu'))\n",
        "        model.add(Dense(4, activation='linear')) # keep four or set var = 4?\n",
        "        model.compile(sgd(lr=lr, decay=1e-4, momentum=0.0), \"mse\")\n",
        "        self.model = model\n",
        "        "
      ],
      "execution_count": 0,
      "outputs": []
    },
    {
      "metadata": {
        "colab_type": "code",
        "id": "WUEIzxXdpPeI",
        "colab": {}
      },
      "cell_type": "code",
      "source": [
        ""
      ],
      "execution_count": 0,
      "outputs": []
    },
    {
      "metadata": {
        "colab_type": "code",
        "id": "asJi34aN5Njk",
        "outputId": "ad0795c5-0da4-4800-9a74-29b18f132481",
        "colab": {
          "base_uri": "https://localhost:8080/",
          "height": 638
        }
      },
      "cell_type": "code",
      "source": [
        "env = Environment(grid_size=size, max_time=T, temperature=0.3)\n",
        "agent = DQN_FC(lr=0.1, grid_size=size, epsilon = 0.1, memory_size=2000, batch_size = 32)\n",
        "train(agent, env, epochs_train, prefix='fc_train')\n",
        "HTML(display_videos('fc_train0.mp4'))"
      ],
      "execution_count": 23,
      "outputs": [
        {
          "output_type": "stream",
          "text": [
            "WARNING:tensorflow:From /usr/local/lib/python3.6/dist-packages/tensorflow/python/framework/op_def_library.py:263: colocate_with (from tensorflow.python.framework.ops) is deprecated and will be removed in a future version.\n",
            "Instructions for updating:\n",
            "Colocations handled automatically by placer.\n",
            "WARNING:tensorflow:From /usr/local/lib/python3.6/dist-packages/tensorflow/python/ops/math_ops.py:3066: to_int32 (from tensorflow.python.ops.math_ops) is deprecated and will be removed in a future version.\n",
            "Instructions for updating:\n",
            "Use tf.cast instead.\n",
            "Epoch 000/020 | Loss 0.0014 | Win/lose count 1.5/0 (1.5)\n",
            "Epoch 001/020 | Loss 0.0042 | Win/lose count 2.5/0 (2.5)\n",
            "Epoch 002/020 | Loss 0.0046 | Win/lose count 1.5/2.0 (-0.5)\n",
            "Epoch 003/020 | Loss 0.0017 | Win/lose count 4.0/11.0 (-7.0)\n",
            "Epoch 004/020 | Loss 0.0048 | Win/lose count 4.5/4.0 (0.5)\n",
            "Epoch 005/020 | Loss 0.0025 | Win/lose count 2.5/7.0 (-4.5)\n",
            "Epoch 006/020 | Loss 0.0033 | Win/lose count 5.5/13.0 (-7.5)\n",
            "Epoch 007/020 | Loss 0.0069 | Win/lose count 4.0/5.0 (-1.0)\n",
            "Epoch 008/020 | Loss 0.0104 | Win/lose count 4.0/6.0 (-2.0)\n",
            "Epoch 009/020 | Loss 0.0100 | Win/lose count 5.5/8.0 (-2.5)\n",
            "Epoch 010/020 | Loss 0.0137 | Win/lose count 4.5/6.0 (-1.5)\n",
            "Epoch 011/020 | Loss 0.0240 | Win/lose count 7.5/4.0 (3.5)\n",
            "Epoch 012/020 | Loss 0.0020 | Win/lose count 3.0/7.0 (-4.0)\n",
            "Epoch 013/020 | Loss 0.0054 | Win/lose count 2.0/1.0 (1.0)\n",
            "Epoch 014/020 | Loss 0.0207 | Win/lose count 2.0/5.0 (-3.0)\n",
            "Epoch 015/020 | Loss 0.0042 | Win/lose count 4.5/8.0 (-3.5)\n",
            "Epoch 016/020 | Loss 0.0089 | Win/lose count 6.0/10.0 (-4.0)\n",
            "Epoch 017/020 | Loss 0.0270 | Win/lose count 5.0/9.0 (-4.0)\n",
            "Epoch 018/020 | Loss 0.0089 | Win/lose count 2.0/3.0 (-1.0)\n",
            "Epoch 019/020 | Loss 0.0093 | Win/lose count 5.5/9.0 (-3.5)\n"
          ],
          "name": "stdout"
        },
        {
          "output_type": "execute_result",
          "data": {
            "text/html": [
              "<video alt=\"test\" controls>\n",
              "                <source src=\"data:video/mp4;base64,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\" type=\"video/mp4\" />\n",
              "             </video>"
            ],
            "text/plain": [
              "<IPython.core.display.HTML object>"
            ]
          },
          "metadata": {
            "tags": []
          },
          "execution_count": 23
        }
      ]
    },
    {
      "metadata": {
        "colab_type": "text",
        "id": "7NQtqvTq5Njn"
      },
      "cell_type": "markdown",
      "source": [
        "***\n",
        "***\n",
        "__Question 8__ Implement the DQN training algorithm using a CNN (for example, 2 convolutional layers and one final fully connected layer)."
      ]
    },
    {
      "metadata": {
        "colab_type": "code",
        "id": "PVQyPRE35Njo",
        "colab": {}
      },
      "cell_type": "code",
      "source": [
        "class DQN_CNN(DQN):\n",
        "    def __init__(self, lr=0.1, *args,**kwargs):\n",
        "        super(DQN_CNN, self).__init__(*args,**kwargs)\n",
        "        \n",
        "        filters = 32\n",
        "        kernel_size = (2,2)\n",
        "        \n",
        "        model = Sequential()\n",
        "        model.add(Conv2D(filters, kernel_size, input_shape=(5,5,self.n_state), activation='relu'))\n",
        "        model.add(Conv2D(filters, kernel_size, activation='relu'))\n",
        "        model.add(Dropout(0.2))\n",
        "        model.add(Flatten())\n",
        "        model.add(Dense(4, activation='linear'))\n",
        "        #print(model.summary())\n",
        "        model.compile(sgd(lr=lr, decay=1e-4, momentum=0.0), \"mse\")\n",
        "        self.model = model"
      ],
      "execution_count": 0,
      "outputs": []
    },
    {
      "metadata": {
        "colab_type": "code",
        "id": "jUUXTgxu5Nju",
        "outputId": "a5cb6c1f-86f0-41f2-9dd6-a6a6395c2052",
        "colab": {
          "base_uri": "https://localhost:8080/",
          "height": 431
        }
      },
      "cell_type": "code",
      "source": [
        "env = Environment(grid_size=size, max_time=T, temperature=0.3)\n",
        "agent = DQN_CNN(grid_size = size, epsilon = 0.1, memory_size=2000, batch_size = 32)\n",
        "train(agent,env,epochs_train,prefix='cnn_train')\n",
        "# HTML(display_videos('cnn_train10.mp4'))"
      ],
      "execution_count": 25,
      "outputs": [
        {
          "output_type": "stream",
          "text": [
            "WARNING:tensorflow:From /usr/local/lib/python3.6/dist-packages/keras/backend/tensorflow_backend.py:3445: calling dropout (from tensorflow.python.ops.nn_ops) with keep_prob is deprecated and will be removed in a future version.\n",
            "Instructions for updating:\n",
            "Please use `rate` instead of `keep_prob`. Rate should be set to `rate = 1 - keep_prob`.\n",
            "Epoch 000/020 | Loss 0.0016 | Win/lose count 1.5/7.0 (-5.5)\n",
            "Epoch 001/020 | Loss 0.0027 | Win/lose count 2.0/1.0 (1.0)\n",
            "Epoch 002/020 | Loss 0.0090 | Win/lose count 3.5/2.0 (1.5)\n",
            "Epoch 003/020 | Loss 0.0072 | Win/lose count 1.5/4.0 (-2.5)\n",
            "Epoch 004/020 | Loss 0.0095 | Win/lose count 4.0/1.0 (3.0)\n",
            "Epoch 005/020 | Loss 0.0068 | Win/lose count 2.5/5.0 (-2.5)\n",
            "Epoch 006/020 | Loss 0.0004 | Win/lose count 5.5/6.0 (-0.5)\n",
            "Epoch 007/020 | Loss 0.0087 | Win/lose count 3.5/3.0 (0.5)\n",
            "Epoch 008/020 | Loss 0.0110 | Win/lose count 2.5/5.0 (-2.5)\n",
            "Epoch 009/020 | Loss 0.0040 | Win/lose count 4.0/2.0 (2.0)\n",
            "Epoch 010/020 | Loss 0.0020 | Win/lose count 6.5/3.0 (3.5)\n",
            "Epoch 011/020 | Loss 0.0003 | Win/lose count 4.5/5.0 (-0.5)\n",
            "Epoch 012/020 | Loss 0.0204 | Win/lose count 4.5/8.0 (-3.5)\n",
            "Epoch 013/020 | Loss 0.0003 | Win/lose count 6.5/9.0 (-2.5)\n",
            "Epoch 014/020 | Loss 0.0144 | Win/lose count 9.0/5.0 (4.0)\n",
            "Epoch 015/020 | Loss 0.0004 | Win/lose count 2.5/2.0 (0.5)\n",
            "Epoch 016/020 | Loss 0.0133 | Win/lose count 2.5/4.0 (-1.5)\n",
            "Epoch 017/020 | Loss 0.0003 | Win/lose count 3.0/1.0 (2.0)\n",
            "Epoch 018/020 | Loss 0.0021 | Win/lose count 5.0/3.0 (2.0)\n",
            "Epoch 019/020 | Loss 0.0146 | Win/lose count 6.0/1.0 (5.0)\n"
          ],
          "name": "stdout"
        }
      ]
    },
    {
      "metadata": {
        "colab_type": "text",
        "id": "719_DHRw5Njx"
      },
      "cell_type": "markdown",
      "source": [
        "***\n",
        "***\n",
        "__Question 9__ Test both algorithms and compare their performances. Which issue(s) do you observe? Observe also different behaviors by changing the temperature."
      ]
    },
    {
      "metadata": {
        "colab_type": "code",
        "id": "daJ8xJTt5Njy",
        "outputId": "e22c3b12-1d1c-4e1d-9f6e-f72884cc74e3",
        "colab": {
          "base_uri": "https://localhost:8080/",
          "height": 809
        }
      },
      "cell_type": "code",
      "source": [
        "env = Environment(grid_size=size, max_time=T,temperature=0.3)\n",
        "agent_cnn = DQN_CNN(grid_size = size, epsilon = 0.1, memory_size=2000, batch_size = 32)\n",
        "agent_cnn.load(name_weights='cnn_trainmodel.h5',name_model='cnn_trainmodel.json')\n",
        "\n",
        "agent_fc = DQN_FC(size, lr=.1, epsilon = 0.1, memory_size=2000, batch_size = 32)\n",
        "agent_cnn.load(name_weights='fc_trainmodel.h5',name_model='fc_trainmodel.json')\n",
        "print('Test of the CNN') \n",
        "test(agent_cnn,env,epochs_test,prefix='cnn_test')\n",
        "print('Test of the FC')\n",
        "test(agent_fc,env,epochs_test,prefix='fc_test')"
      ],
      "execution_count": 26,
      "outputs": [
        {
          "output_type": "stream",
          "text": [
            "Test of the CNN\n",
            "Win/lose count 5.00/8.00. Average score (-3.00)\n",
            "Win/lose count 8.50/4.00. Average score (0.75)\n",
            "Win/lose count 2.00/3.00. Average score (0.17)\n",
            "Win/lose count 4.50/4.00. Average score (0.25)\n",
            "Win/lose count 4.00/11.00. Average score (-1.20)\n",
            "Win/lose count 7.50/9.00. Average score (-1.25)\n",
            "Win/lose count 6.50/5.00. Average score (-0.86)\n",
            "Win/lose count 1.50/6.00. Average score (-1.31)\n",
            "Win/lose count 6.50/4.00. Average score (-0.89)\n",
            "Win/lose count 8.50/8.00. Average score (-0.75)\n",
            "Win/lose count 1.00/2.00. Average score (-0.77)\n",
            "Win/lose count 5.50/10.00. Average score (-1.08)\n",
            "Win/lose count 3.00/2.00. Average score (-0.92)\n",
            "Win/lose count 3.00/5.00. Average score (-1.00)\n",
            "Win/lose count 4.00/4.00. Average score (-0.93)\n",
            "Win/lose count 6.50/3.00. Average score (-0.66)\n",
            "Win/lose count 8.50/9.00. Average score (-0.65)\n",
            "Win/lose count 1.50/2.00. Average score (-0.64)\n",
            "Win/lose count 4.00/3.00. Average score (-0.55)\n",
            "Win/lose count 5.50/6.00. Average score (-0.55)\n",
            "Final score: -0.55\n",
            "Test of the FC\n",
            "Win/lose count 2.50/2.00. Average score (0.50)\n",
            "Win/lose count 4.00/9.00. Average score (-2.25)\n",
            "Win/lose count 1.00/2.00. Average score (-1.83)\n",
            "Win/lose count 3.00/8.00. Average score (-2.62)\n",
            "Win/lose count 1.50/4.00. Average score (-2.60)\n",
            "Win/lose count 10.50/11.00. Average score (-2.25)\n",
            "Win/lose count 1.00/3.00. Average score (-2.21)\n",
            "Win/lose count 3.00/7.00. Average score (-2.44)\n",
            "Win/lose count 3.50/8.00. Average score (-2.67)\n",
            "Win/lose count 3.50/1.00. Average score (-2.15)\n",
            "Win/lose count 4.00/8.00. Average score (-2.32)\n",
            "Win/lose count 5.00/7.00. Average score (-2.29)\n",
            "Win/lose count 4.50/4.00. Average score (-2.08)\n",
            "Win/lose count 1.50/11.00. Average score (-2.61)\n",
            "Win/lose count 4.00/4.00. Average score (-2.43)\n",
            "Win/lose count 3.50/5.00. Average score (-2.38)\n",
            "Win/lose count 4.00/3.00. Average score (-2.18)\n",
            "Win/lose count 6.50/10.00. Average score (-2.25)\n",
            "Win/lose count 2.50/8.00. Average score (-2.42)\n",
            "Win/lose count 4.00/3.00. Average score (-2.25)\n",
            "Final score: -2.25\n"
          ],
          "name": "stdout"
        }
      ]
    },
    {
      "metadata": {
        "colab_type": "code",
        "id": "DNK1eAqI5Nj1",
        "colab": {}
      },
      "cell_type": "code",
      "source": [
        "# HTML(display_videos('cnn_test10.mp4'))"
      ],
      "execution_count": 0,
      "outputs": []
    },
    {
      "metadata": {
        "colab_type": "code",
        "id": "anJH0r6o5Nj4",
        "colab": {}
      },
      "cell_type": "code",
      "source": [
        "# HTML(display_videos('fc_test10.mp4'))"
      ],
      "execution_count": 0,
      "outputs": []
    },
    {
      "metadata": {
        "colab_type": "text",
        "id": "OrGkhrdQ5Nj7"
      },
      "cell_type": "markdown",
      "source": [
        "CNN agent performs better than FC agent. One issue is that there is volatility in the test results. Also, epsilon doesn't change which means as the agent learns he doesn't reduce the proportion of randomness in his game.\n",
        "\n",
        "The temperature corresponds to the parmater of the binomial distribution which determines the density of poison and cheese on the board. The higher the temperature, the higher the proportion of bonus and so the easier the game. "
      ]
    },
    {
      "metadata": {
        "colab_type": "text",
        "id": "GGjeU21J5Nj8"
      },
      "cell_type": "markdown",
      "source": [
        "***\n",
        "\n",
        "The algorithm tends to not explore the map which can be an issue. We propose two ideas in order to encourage exploration:\n",
        "1. Incorporating a decreasing $\\epsilon$-greedy exploration. You can use the method ```set_epsilon```\n",
        "2. Append via the environment a new state that describes if a cell has been visited or not\n",
        "\n",
        "***\n",
        "__Question 10__ Design a new ```train_explore``` function and environment class ```EnvironmentExploring``` to tackle the issue of exploration.\n",
        "\n"
      ]
    },
    {
      "metadata": {
        "colab_type": "code",
        "id": "ULF7blzy5Nj8",
        "colab": {}
      },
      "cell_type": "code",
      "source": [
        "def train_explore(agent,env,epoch,prefix=''):\n",
        "    # Number of won games\n",
        "    score = 0\n",
        "    loss = 0\n",
        "\n",
        "    \n",
        "    for e in range(epoch):\n",
        "        # At each epoch, we restart to a fresh game and get the initial state\n",
        "        state = env.reset()\n",
        "        # This assumes that the games will terminate\n",
        "        game_over = False\n",
        "\n",
        "        win = 0\n",
        "        lose = 0\n",
        "\n",
        "        while not game_over:\n",
        "            \n",
        "            # Add an epsilon\n",
        "            agent.set_epsilon(np.float(agent.get_epsilon())*0.995)\n",
        "            \n",
        "            # The agent performs an action\n",
        "            action = agent.act(state)\n",
        "\n",
        "            # Apply an action to the environment, get the next state, the reward\n",
        "            # and if the games end\n",
        "            prev_state = state\n",
        "            state, reward, game_over = env.act(action, train=True)\n",
        "\n",
        "            # Update the counters\n",
        "            if reward > 0:\n",
        "                win = win + reward\n",
        "            if reward < 0:\n",
        "                lose = lose - reward\n",
        "\n",
        "            # Apply the reinforcement strategy\n",
        "            loss = agent.reinforce(prev_state, state,  action, reward, game_over)\n",
        "            \n",
        "        # Save as a mp4       \n",
        "        env.draw(prefix+str(e))\n",
        "        \n",
        "        # Update stats\n",
        "        score += win-lose\n",
        "\n",
        "        print(\"Epoch {:03d}/{:03d} | Loss {:.4f} | Win/lose count {}/{} ({})\"\n",
        "              .format(e, epoch, loss, win, lose, win-lose))\n",
        "        agent.save(name_weights=prefix+'model.h5',name_model=prefix+'model.json')\n",
        "        \n",
        "    print('Final score: '+str(score/epoch))\n",
        "\n",
        "        \n",
        "class EnvironmentExploring(object):\n",
        "    def __init__(self, grid_size=10, max_time=500, temperature=0.1):\n",
        "        grid_size = grid_size + 4\n",
        "        self.grid_size = grid_size\n",
        "        self.max_time = max_time\n",
        "        self.temperature = temperature\n",
        "        \n",
        "        self.board = np.zeros([grid_size,grid_size])\n",
        "        self.position = np.zeros([grid_size,grid_size])\n",
        "        \n",
        "        # Add a malus position\n",
        "        self.malus_position = np.zeros([grid_size,grid_size])\n",
        "        \n",
        "        # coordinate of the rat\n",
        "        self.x = 0\n",
        "        self.y = 1\n",
        "        \n",
        "        # self time\n",
        "        self.t = 0\n",
        "        self.scale=16\n",
        "        self.to_draw = np.zeros((max_time+2, grid_size*self.scale, grid_size*self.scale, 3))\n",
        "        \n",
        "    def get_t(self):\n",
        "        return self.t\n",
        "    \n",
        "    def draw(self,e):\n",
        "        skvideo.io.vwrite(str(e) + '.mp4', self.to_draw)\n",
        "\n",
        "    def get_frame(self,t):\n",
        "        b = np.zeros((self.grid_size,self.grid_size,3))+128\n",
        "        b[self.board>0,0] = 256\n",
        "        b[self.board < 0, 2] = 256\n",
        "        b[self.x,self.y,:]=256\n",
        "        b[-2:,:,:]=0\n",
        "        b[:,-2:,:]=0\n",
        "        b[:2,:,:]=0\n",
        "        b[:,:2,:]=0\n",
        "        \n",
        "        b =  cv2.resize(b, None, fx=self.scale, fy=self.scale, interpolation=cv2.INTER_NEAREST)\n",
        "        self.to_draw[t,:,:,:]=b\n",
        "        \n",
        "    def act(self, action, train=True):\n",
        "        \"\"\"This function returns the new state, reward and decides if the\n",
        "        game ends.\"\"\"\n",
        "\n",
        "        self.get_frame(int(self.t))\n",
        "\n",
        "        self.position = np.zeros((self.grid_size, self.grid_size))\n",
        "\n",
        "        self.position[0:2,:]= -1\n",
        "        self.position[:,0:2] = -1\n",
        "        self.position[-2:, :] = -1\n",
        "        self.position[:, -2:] = -1\n",
        "\n",
        "        self.position[self.x, self.y] = 1\n",
        "        \n",
        "        if action == 0:\n",
        "            if self.x == self.grid_size-3:\n",
        "                self.x = self.x-1\n",
        "            else:\n",
        "                self.x = self.x + 1\n",
        "        elif action == 1:\n",
        "            if self.x == 2:\n",
        "                self.x = self.x+1\n",
        "            else:\n",
        "                self.x = self.x-1\n",
        "        elif action == 2:\n",
        "            if self.y == self.grid_size - 3:\n",
        "                self.y = self.y - 1\n",
        "            else:\n",
        "                self.y = self.y + 1\n",
        "        elif action == 3:\n",
        "            if self.y == 2:\n",
        "                self.y = self.y + 1\n",
        "            else:\n",
        "                self.y = self.y - 1\n",
        "        else:\n",
        "            RuntimeError('Error: action not recognized')\n",
        "        \n",
        "        self.t = self.t + 1\n",
        "        \n",
        "    ## In Environment exploring:\n",
        "        # You will have to change n_state to 3 because you will use one more layer!\n",
        "        reward = 0\n",
        "        if train:\n",
        "            reward -= self.malus_position[self.x, self.y]\n",
        "\n",
        "        self.malus_position[self.x, self.y] = 0.01\n",
        "        reward = reward + self.board[self.x, self.y]\n",
        "        self.board[self.x, self.y] = 0\n",
        "        game_over = self.t > self.max_time\n",
        "\n",
        "        # 3 \"feature\" states instead of 2\n",
        "        state = np.concatenate((self.malus_position.reshape(self.grid_size, self.grid_size,1),\n",
        "                                self.board.reshape(self.grid_size, self.grid_size,1),\n",
        "                                self.position.reshape(self.grid_size, self.grid_size,1)),axis=2)\n",
        "        \n",
        "        state = state[self.x-2:self.x+3,self.y-2:self.y+3,:]\n",
        "        \n",
        "        return state, reward, game_over\n",
        "    \n",
        "    def reset(self):\n",
        "        \"\"\"This function resets the game and returns the initial state\"\"\"\n",
        "\n",
        "        self.x = np.random.randint(3, self.grid_size-3, size=1)[0]\n",
        "        self.y = np.random.randint(3, self.grid_size-3, size=1)[0]\n",
        "\n",
        "\n",
        "        bonus = 0.5*np.random.binomial(1,self.temperature,size=self.grid_size**2)\n",
        "        bonus = bonus.reshape(self.grid_size,self.grid_size)\n",
        "\n",
        "        malus = -1.0*np.random.binomial(1,self.temperature,size=self.grid_size**2)\n",
        "        malus = malus.reshape(self.grid_size, self.grid_size)\n",
        "\n",
        "        self.to_draw = np.zeros((self.max_time+2, self.grid_size*self.scale, self.grid_size*self.scale, 3))\n",
        "        \n",
        "        malus[bonus>0]=0\n",
        "\n",
        "        self.board = bonus + malus\n",
        "\n",
        "        self.position = np.zeros((self.grid_size, self.grid_size))\n",
        "        self.position[0:2,:]= -1\n",
        "        self.position[:,0:2] = -1\n",
        "        self.position[-2:, :] = -1\n",
        "        self.position[:, -2:] = -1\n",
        "        self.board[self.x,self.y] = 0\n",
        "        self.malus_position[self.x, self.y] = 0\n",
        "\n",
        "        self.t = 0\n",
        "\n",
        "        state = np.concatenate((self.malus_position.reshape(self.grid_size, self.grid_size,1),\n",
        "                                self.board.reshape(self.grid_size, self.grid_size,1),\n",
        "                                self.position.reshape(self.grid_size, self.grid_size,1)),axis=2)\n",
        "\n",
        "        state = state[self.x - 2:self.x + 3, self.y - 2:self.y + 3, :]\n",
        "        \n",
        "        return state"
      ],
      "execution_count": 0,
      "outputs": []
    },
    {
      "metadata": {
        "colab_type": "code",
        "id": "BAGjpCv05NkB",
        "outputId": "23c49aa3-1527-483a-96fb-4cdd938e5961",
        "colab": {
          "base_uri": "https://localhost:8080/",
          "height": 395
        }
      },
      "cell_type": "code",
      "source": [
        "# Training\n",
        "env = EnvironmentExploring(grid_size=size, max_time=T, temperature=0.3)\n",
        "agent = DQN_CNN(grid_size = size, epsilon = 0.1, memory_size=2000, batch_size = 32,n_state=3)\n",
        "train_explore(agent, env, epochs_train, prefix='cnn_train_explore')\n",
        "# HTML(display_videos('cnn_train_explore10.mp4'))"
      ],
      "execution_count": 30,
      "outputs": [
        {
          "output_type": "stream",
          "text": [
            "Epoch 000/020 | Loss 0.0038 | Win/lose count 6.0/5.709999999999977 (0.29000000000002313)\n",
            "Epoch 001/020 | Loss 0.0036 | Win/lose count 3.96/2.8399999999999848 (1.1200000000000152)\n",
            "Epoch 002/020 | Loss 0.0007 | Win/lose count 0.98/5.979999999999959 (-4.999999999999959)\n",
            "Epoch 003/020 | Loss 0.0022 | Win/lose count 2.0/2.939999999999989 (-0.9399999999999888)\n",
            "Epoch 004/020 | Loss 0.0030 | Win/lose count 1.0/2.9599999999999804 (-1.9599999999999804)\n",
            "Epoch 005/020 | Loss 0.0045 | Win/lose count 0.98/3.9499999999999593 (-2.9699999999999593)\n",
            "Epoch 006/020 | Loss 0.0004 | Win/lose count 0.49/2.0000000000000013 (-1.5100000000000013)\n",
            "Epoch 007/020 | Loss 0.0004 | Win/lose count 1.0/2.9499999999999806 (-1.9499999999999806)\n",
            "Epoch 008/020 | Loss 0.0020 | Win/lose count 5.0/4.809999999999961 (0.19000000000003858)\n",
            "Epoch 009/020 | Loss 0.0021 | Win/lose count 5.410000000000001/4.849999999999963 (0.5600000000000378)\n",
            "Epoch 010/020 | Loss 0.0004 | Win/lose count 1.47/3.9699999999999593 (-2.499999999999959)\n",
            "Epoch 011/020 | Loss 0.0023 | Win/lose count 0.98/1.9900000000000015 (-1.0100000000000016)\n",
            "Epoch 012/020 | Loss 0.0100 | Win/lose count 0.98/2.98999999999998 (-2.00999999999998)\n",
            "Epoch 013/020 | Loss 0.0001 | Win/lose count 0.49/1.9500000000000015 (-1.4600000000000015)\n",
            "Epoch 014/020 | Loss 0.0020 | Win/lose count 0.49/1.9500000000000015 (-1.4600000000000015)\n",
            "Epoch 015/020 | Loss 0.0002 | Win/lose count 6.420000000000001/4.809999999999962 (1.6100000000000385)\n",
            "Epoch 016/020 | Loss 0.0002 | Win/lose count 0.98/2.96999999999998 (-1.9899999999999802)\n",
            "Epoch 017/020 | Loss 0.0115 | Win/lose count 5.420000000000001/3.7999999999999936 (1.6200000000000072)\n",
            "Epoch 018/020 | Loss 0.0057 | Win/lose count 0/1.9900000000000015 (-1.9900000000000015)\n",
            "Epoch 019/020 | Loss 0.0021 | Win/lose count 3.9300000000000006/5.909999999999967 (-1.9799999999999667)\n",
            "Final score: -1.1669999999999798\n"
          ],
          "name": "stdout"
        }
      ]
    },
    {
      "metadata": {
        "colab_type": "code",
        "id": "c4OD5cGT5NkF",
        "outputId": "9694e648-4fa9-4e72-c0c7-badbbea28d3f",
        "colab": {
          "base_uri": "https://localhost:8080/",
          "height": 395
        }
      },
      "cell_type": "code",
      "source": [
        "# Evaluation\n",
        "test(agent,env,epochs_test,prefix='cnn_test_explore')\n",
        "# HTML(display_videos('cnn_test_explore10.mp4'))"
      ],
      "execution_count": 31,
      "outputs": [
        {
          "output_type": "stream",
          "text": [
            "Win/lose count 0.98/2.99. Average score (-2.01)\n",
            "Win/lose count 0.49/2.98. Average score (-2.25)\n",
            "Win/lose count 0.00/3.01. Average score (-2.50)\n",
            "Win/lose count 2.46/7.93. Average score (-3.24)\n",
            "Win/lose count 2.45/2.96. Average score (-2.70)\n",
            "Win/lose count 0.00/2.00. Average score (-2.58)\n",
            "Win/lose count 0.49/2.98. Average score (-2.57)\n",
            "Win/lose count 1.47/3.97. Average score (-2.56)\n",
            "Win/lose count 1.47/2.98. Average score (-2.44)\n",
            "Win/lose count 0.99/1.99. Average score (-2.30)\n",
            "Win/lose count 0.49/6.00. Average score (-2.59)\n",
            "Win/lose count 0.98/3.97. Average score (-2.62)\n",
            "Win/lose count 1.98/3.96. Average score (-2.57)\n",
            "Win/lose count 4.91/5.88. Average score (-2.46)\n",
            "Win/lose count 1.97/3.96. Average score (-2.43)\n",
            "Win/lose count 1.96/5.96. Average score (-2.53)\n",
            "Win/lose count 0.49/2.00. Average score (-2.47)\n",
            "Win/lose count 1.48/2.98. Average score (-2.41)\n",
            "Win/lose count 2.45/3.96. Average score (-2.37)\n",
            "Win/lose count 0.98/5.99. Average score (-2.50)\n",
            "Final score: -2.5\n"
          ],
          "name": "stdout"
        }
      ]
    },
    {
      "metadata": {
        "colab_type": "text",
        "id": "2KCt5LpN5NkI"
      },
      "cell_type": "markdown",
      "source": [
        "***\n",
        "***\n",
        "__BONUS question__ Use the expert DQN from the previous question to generate some winning games. Train a model that mimicks its behavior. Compare the performances."
      ]
    },
    {
      "metadata": {
        "colab_type": "text",
        "id": "iAZASkwS5NkJ"
      },
      "cell_type": "markdown",
      "source": [
        ""
      ]
    },
    {
      "metadata": {
        "colab_type": "text",
        "id": "_Ziek6Mo5NkK"
      },
      "cell_type": "markdown",
      "source": [
        "***"
      ]
    }
  ]
}